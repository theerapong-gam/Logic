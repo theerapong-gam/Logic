{
 "metadata": {
  "language_info": {
   "codemirror_mode": {
    "name": "ipython",
    "version": 3
   },
   "file_extension": ".py",
   "mimetype": "text/x-python",
   "name": "python",
   "nbconvert_exporter": "python",
   "pygments_lexer": "ipython3",
   "version": "3.9.7"
  },
  "orig_nbformat": 2,
  "kernelspec": {
   "name": "python3",
   "display_name": "Python 3.9.7 64-bit"
  },
  "interpreter": {
   "hash": "ea4c875f40e2feb0e60a34a54a5df6f69ffa7ba916ec31a843358473303548cc"
  }
 },
 "nbformat": 4,
 "nbformat_minor": 2,
 "cells": [
  {
   "cell_type": "code",
   "execution_count": 8,
   "source": [
    "from logic import *\r\n",
    "import termcolor"
   ],
   "outputs": [],
   "metadata": {}
  },
  {
   "cell_type": "code",
   "execution_count": 9,
   "source": [
    "!pip install termcolor"
   ],
   "outputs": [
    {
     "output_type": "stream",
     "name": "stdout",
     "text": [
      "Requirement already satisfied: termcolor in c:\\users\\tug\\appdata\\local\\programs\\python\\python39\\lib\\site-packages (1.1.0)\n"
     ]
    },
    {
     "output_type": "stream",
     "name": "stderr",
     "text": [
      "WARNING: You are using pip version 21.2.3; however, version 21.2.4 is available.\n",
      "You should consider upgrading via the 'C:\\Users\\tug\\AppData\\Local\\Programs\\Python\\Python39\\python.exe -m pip install --upgrade pip' command.\n"
     ]
    }
   ],
   "metadata": {}
  },
  {
   "cell_type": "code",
   "execution_count": 11,
   "source": [
    "onKitchenTable          = Symbol(\"My glasses are on the kitchen table.\")#_____________\r\n",
    "sawAtBreakfast          = Symbol(\"I saw my glasses at breakfast.\")\r\n",
    "readNewsInLivingRoom    = Symbol(\"I was reading the newspaper in the living room\")\r\n",
    "readNewsInKitchen       = Symbol(\"I was reading the newspaper in the kitchen.\")\r\n",
    "onCoffeeTable           = Symbol(\"My glasses are on the coffee table.\")#_____________\r\n",
    "readBookInBed           = Symbol(\"I was reading my book in bed.\")\r\n",
    "onBedTable              = Symbol(\"My glasses are on the bed table.\")#_____________"
   ],
   "outputs": [],
   "metadata": {}
  },
  {
   "cell_type": "code",
   "execution_count": 4,
   "source": [
    "knowledge = And(\r\n",
    "    Implication(onKitchenTable, sawAtBreakfast),\r\n",
    "    Or(readNewsInLivingRoom, readNewsInKitchen),\r\n",
    "    Implication(readNewsInLivingRoom, onCoffeeTable),\r\n",
    "    Not(sawAtBreakfast),\r\n",
    "    Implication(readBookInBed, onBedTable),\r\n",
    "    Implication(readNewsInKitchen, onKitchenTable)\r\n",
    ")"
   ],
   "outputs": [],
   "metadata": {}
  },
  {
   "cell_type": "code",
   "execution_count": 5,
   "source": [
    "symbols = [onBedTable, onCoffeeTable, onKitchenTable]"
   ],
   "outputs": [],
   "metadata": {}
  },
  {
   "cell_type": "code",
   "execution_count": 6,
   "source": [
    "def check_knowledge(knowledge):\r\n",
    "    for s in symbols:\r\n",
    "        if model_check(knowledge, s):\r\n",
    "            termcolor.cprint(f\"{s}\", \"green\")\r\n",
    "\r\n"
   ],
   "outputs": [],
   "metadata": {}
  },
  {
   "cell_type": "code",
   "execution_count": 7,
   "source": [
    "check_knowledge(knowledge)"
   ],
   "outputs": [
    {
     "output_type": "stream",
     "name": "stdout",
     "text": [
      "\u001b[32mMy glasses are on the coffee table.\u001b[0m\n"
     ]
    }
   ],
   "metadata": {}
  },
  {
   "cell_type": "code",
   "execution_count": null,
   "source": [],
   "outputs": [],
   "metadata": {}
  }
 ]
}