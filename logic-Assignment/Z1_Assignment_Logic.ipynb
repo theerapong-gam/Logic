{
 "cells": [
  {
   "cell_type": "code",
   "execution_count": 12,
   "source": [
    "from logic import *\r\n",
    "\r\n",
    "a = Symbol(\"The program does not display a “Number Format Exception” message.\")#โปรแกรมไม่แสดงข้อความ “Number Format Exception”\r\n",
    "b = Symbol(\"The program has no errors in the Random r = new Random(Double.parseDouble(x)) statement.\")#โปรแกรมไม่มีข้อผิดพลาดในคำสั่ง Random r = new Random(Double.parseDouble(x))\r\n",
    "\r\n",
    "c = Symbol(\"The program displays the message “Divided by zero”.\")#โปรแกรมแสดงข้อความ “Divided by zero\r\n",
    "d = Symbol(\"The program has an error in the double y = a statement.\")#โปรแกรมมีข้อผิดพลาดในคำสั่ง double y = a \r\n",
    "\r\n",
    "e = Symbol(\"The program displays a message “Segmentation Fault”.\")#โปรแกรมแสดงข้อความ “Segmentation Fault”\r\n",
    "f = Symbol(\"The program has an error in the Random r = new Random(Double.parseDouble(x)) statement.\")#โปรแกรมมีข้อผิดพลาดในคำสั่ง     Random r = new Random(Double.parseDouble(x))\r\n",
    "\r\n",
    "g = Symbol(\"The program displays the message “Low Memory”.\")#โปรแกรมแสดงข้อความ “Low Memory”\r\n",
    "\r\n",
    "h = Symbol(\"The program has an error in the Object o = new Object() statement. \")#โปรแกรมมีข้อผิดพลาดในคำสั่ง Object o = new Object()"
   ],
   "outputs": [],
   "metadata": {}
  },
  {
   "cell_type": "code",
   "execution_count": 13,
   "source": [
    "knowledge = And( #ข้อมูลเป็นจริงทั้งหมดเอามา andกัน\r\n",
    "    Implication(a, b),\r\n",
    "    Implication(c, d),\r\n",
    "    Implication(e, f),\r\n",
    "    And(g, a),\r\n",
    "    Or(e, h)\r\n",
    "    \r\n",
    ")\r\n",
    "#จะเช็คได้ยังไงว่าโปรแกรมแสดงข้อความอะไร"
   ],
   "outputs": [],
   "metadata": {}
  },
  {
   "cell_type": "code",
   "execution_count": 14,
   "source": [
    "messageDividedbyzero = model_check(knowledge , c)#ตั้งตัวแปรตัวนึงขึ้นมา messageDividedbyzero = c\r\n",
    "print(messageDividedbyzero)"
   ],
   "outputs": [
    {
     "output_type": "stream",
     "name": "stdout",
     "text": [
      "False\n"
     ]
    }
   ],
   "metadata": {}
  },
  {
   "cell_type": "code",
   "execution_count": 15,
   "source": [
    "messageSegmentationFault = model_check(knowledge , e)#ตั้งตัวแปรตัวนึงขึ้นมา messageSegmentationFault = e\r\n",
    "print(messageSegmentationFault)"
   ],
   "outputs": [
    {
     "output_type": "stream",
     "name": "stdout",
     "text": [
      "False\n"
     ]
    }
   ],
   "metadata": {}
  },
  {
   "cell_type": "code",
   "execution_count": 16,
   "source": [
    "messageLowMemory = model_check(knowledge , g)#ตั้งตัวแปรตัวนึงขึ้นมา messageLowMemory = g\r\n",
    "print(messageLowMemory)"
   ],
   "outputs": [
    {
     "output_type": "stream",
     "name": "stdout",
     "text": [
      "True\n"
     ]
    }
   ],
   "metadata": {}
  }
 ],
 "metadata": {
  "orig_nbformat": 4,
  "language_info": {
   "name": "python",
   "version": "3.9.7",
   "mimetype": "text/x-python",
   "codemirror_mode": {
    "name": "ipython",
    "version": 3
   },
   "pygments_lexer": "ipython3",
   "nbconvert_exporter": "python",
   "file_extension": ".py"
  },
  "kernelspec": {
   "name": "python3",
   "display_name": "Python 3.9.7 64-bit"
  },
  "interpreter": {
   "hash": "ea4c875f40e2feb0e60a34a54a5df6f69ffa7ba916ec31a843358473303548cc"
  }
 },
 "nbformat": 4,
 "nbformat_minor": 2
}