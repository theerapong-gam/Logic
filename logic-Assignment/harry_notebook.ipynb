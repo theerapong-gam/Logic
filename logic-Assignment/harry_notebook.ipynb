{
 "metadata": {
  "language_info": {
   "codemirror_mode": {
    "name": "ipython",
    "version": 3
   },
   "file_extension": ".py",
   "mimetype": "text/x-python",
   "name": "python",
   "nbconvert_exporter": "python",
   "pygments_lexer": "ipython3",
   "version": "3.9.7"
  },
  "orig_nbformat": 2,
  "kernelspec": {
   "name": "python3",
   "display_name": "Python 3.9.7 64-bit"
  },
  "interpreter": {
   "hash": "ea4c875f40e2feb0e60a34a54a5df6f69ffa7ba916ec31a843358473303548cc"
  }
 },
 "nbformat": 4,
 "nbformat_minor": 2,
 "cells": [
  {
   "cell_type": "code",
   "execution_count": 1,
   "source": [
    "from logic import *\r\n",
    "\r\n",
    "rain = Symbol(\"It rained.\")\r\n",
    "visitedHagrid = Symbol(\"Harry visited Hagrid\")\r\n",
    "visitedDumbledore = Symbol(\"Harry visited Dumbledore\")"
   ],
   "outputs": [],
   "metadata": {}
  },
  {
   "cell_type": "code",
   "execution_count": 2,
   "source": [
    "knowledge = And(\r\n",
    "    Implication(Not(rain), visitedHagrid),\r\n",
    "    Or(visitedHagrid, visitedDumbledore),\r\n",
    "    Not(And(visitedHagrid, visitedDumbledore)),\r\n",
    "    visitedDumbledore\r\n",
    ")"
   ],
   "outputs": [],
   "metadata": {}
  },
  {
   "cell_type": "code",
   "execution_count": 3,
   "source": [
    "wasRained = model_check(knowledge, rain)\r\n",
    "print(wasRained)"
   ],
   "outputs": [
    {
     "output_type": "stream",
     "name": "stdout",
     "text": [
      "True\n"
     ]
    }
   ],
   "metadata": {}
  },
  {
   "cell_type": "code",
   "execution_count": null,
   "source": [],
   "outputs": [],
   "metadata": {}
  }
 ]
}