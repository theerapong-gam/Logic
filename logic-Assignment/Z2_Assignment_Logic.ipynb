{
 "cells": [
  {
   "cell_type": "code",
   "execution_count": 1,
   "source": [
    "from logic import *\r\n",
    "import termcolor"
   ],
   "outputs": [],
   "metadata": {}
  },
  {
   "cell_type": "code",
   "execution_count": 2,
   "source": [
    "!pip install termcolor"
   ],
   "outputs": [
    {
     "output_type": "stream",
     "name": "stdout",
     "text": [
      "Requirement already satisfied: termcolor in c:\\users\\tug\\appdata\\local\\programs\\python\\python39\\lib\\site-packages (1.1.0)\n"
     ]
    },
    {
     "output_type": "stream",
     "name": "stderr",
     "text": [
      "WARNING: You are using pip version 21.2.3; however, version 21.2.4 is available.\n",
      "You should consider upgrading via the 'C:\\Users\\tug\\AppData\\Local\\Programs\\Python\\Python39\\python.exe -m pip install --upgrade pip' command.\n"
     ]
    }
   ],
   "metadata": {}
  },
  {
   "cell_type": "code",
   "execution_count": 3,
   "source": [
    "notdisplayNumberFormatException                                 = Symbol(\"The program does not display a “Number Format Exception” message.\")#a\r\n",
    "TheProgramHasNoErrorsInTheRandomR                               = Symbol(\"The program has no errors in the Random r = new Random(Double.parseDouble(x)) statement.\")#b\r\n",
    "DividedByZero                                                   = Symbol(\"The program displays the message “Divided by zero”.\")#c\r\n",
    "ProgramHasAnErrorInTheDoubleYAStatement                        = Symbol(\"The program has an error in the double y = a statement.\")#d\r\n",
    "SegmentationFault                                               = Symbol(\"The program displays a message “Segmentation Fault”.\")#e\r\n",
    "ProgramHasAnErrorInTheRandomR                                   = Symbol(\"The program has an error in the Random r = new Random(Double.parseDouble(x)) statement.\")#f\r\n",
    "LowMemory                                                      = Symbol(\"The program displays the message “Low Memory”.\")#g\r\n",
    "ProgramHasAnErrorInTheObject                                    = Symbol(\"The program has an error in the Object o = new Object() statement. \")#h"
   ],
   "outputs": [],
   "metadata": {}
  },
  {
   "cell_type": "code",
   "execution_count": 4,
   "source": [
    "knowledge = And(\r\n",
    "    Implication(notdisplayNumberFormatException, TheProgramHasNoErrorsInTheRandomR),\r\n",
    "    Implication(DividedByZero, ProgramHasAnErrorInTheDoubleYAStatement),\r\n",
    "    Implication(SegmentationFault, ProgramHasAnErrorInTheRandomR),\r\n",
    "    And(LowMemory, notdisplayNumberFormatException),\r\n",
    "    Or(SegmentationFault, ProgramHasAnErrorInTheObject)\r\n",
    ")"
   ],
   "outputs": [],
   "metadata": {}
  },
  {
   "cell_type": "code",
   "execution_count": 5,
   "source": [
    "symbols = [DividedByZero, SegmentationFault, LowMemory]"
   ],
   "outputs": [],
   "metadata": {}
  },
  {
   "cell_type": "code",
   "execution_count": 6,
   "source": [
    "def check_knowledge(knowledge):\r\n",
    "    for s in symbols:\r\n",
    "        if model_check(knowledge, s):\r\n",
    "            termcolor.cprint(f\"{s}\", \"green\")"
   ],
   "outputs": [],
   "metadata": {}
  },
  {
   "cell_type": "code",
   "execution_count": 7,
   "source": [
    "check_knowledge(knowledge)"
   ],
   "outputs": [
    {
     "output_type": "stream",
     "name": "stdout",
     "text": [
      "\u001b[32mThe program displays the message “Low Memory”.\u001b[0m\n"
     ]
    }
   ],
   "metadata": {}
  }
 ],
 "metadata": {
  "orig_nbformat": 4,
  "language_info": {
   "name": "python",
   "version": "3.9.7",
   "mimetype": "text/x-python",
   "codemirror_mode": {
    "name": "ipython",
    "version": 3
   },
   "pygments_lexer": "ipython3",
   "nbconvert_exporter": "python",
   "file_extension": ".py"
  },
  "kernelspec": {
   "name": "python3",
   "display_name": "Python 3.9.7 64-bit"
  },
  "interpreter": {
   "hash": "ea4c875f40e2feb0e60a34a54a5df6f69ffa7ba916ec31a843358473303548cc"
  }
 },
 "nbformat": 4,
 "nbformat_minor": 2
}