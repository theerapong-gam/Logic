{
 "cells": [
  {
   "cell_type": "code",
   "execution_count": 3,
   "source": [
    "from logic import * #Import class ทุก Class logic\r\n",
    "\r\n",
    "rain = Symbol(\"It rained.\")                             #rain = P                           ฝนตก\r\n",
    "visitedHagrid = Symbol(\"Harry visited Hagrid\")      #visitedHagrid = q                  แฮร์รี่ไปเยี่ยมดัมเบิลดอร์\r\n",
    "visitedDumbledore = Symbol(\"Harry visited Dumbledore\")  #visitedDumbledore = R                แฮร์รี่ไปเยี่ยมดัมเบิลดอร์"
   ],
   "outputs": [],
   "metadata": {}
  },
  {
   "cell_type": "code",
   "execution_count": 4,
   "source": [
    "knowledge = And(\r\n",
    "    Implication(Not(rain), visitedHagrid),      #ถ้าฝนไม่ตก Harry ไปเยี่ยม  Hagrid\r\n",
    "    Or(visitedHagrid, visitedDumbledore),       #Harry           ไปเยี่ยม   Hagrid      หรือ Dumbledore\r\n",
    "    Not(And(visitedHagrid, visitedDumbledore)), #Harry           ไม่ไปเยี่ยม Hagrid      หรือ Dumbledore\r\n",
    "    visitedDumbledore                           #Harry           ไปเยี่ยม   Dumbledore\r\n",
    ")                                               #คำถาม คือ ฝนมันตกหรือไม่"
   ],
   "outputs": [],
   "metadata": {}
  },
  {
   "cell_type": "code",
   "execution_count": 5,
   "source": [
    "wasRained = model_check(knowledge, rain) #ใช้ Fintion ชื่อ model_check        #knowledgeคือประโยคทั้งหมด เมื่อเทียบกับประโยคที่เราต้องการ\r\n",
    "print(wasRained)\r\n"
   ],
   "outputs": [
    {
     "output_type": "stream",
     "name": "stdout",
     "text": [
      "True\n"
     ]
    }
   ],
   "metadata": {}
  }
 ],
 "metadata": {
  "orig_nbformat": 4,
  "language_info": {
   "name": "python",
   "version": "3.9.7",
   "mimetype": "text/x-python",
   "codemirror_mode": {
    "name": "ipython",
    "version": 3
   },
   "pygments_lexer": "ipython3",
   "nbconvert_exporter": "python",
   "file_extension": ".py"
  },
  "kernelspec": {
   "name": "python3",
   "display_name": "Python 3.9.7 64-bit"
  },
  "interpreter": {
   "hash": "ea4c875f40e2feb0e60a34a54a5df6f69ffa7ba916ec31a843358473303548cc"
  }
 },
 "nbformat": 4,
 "nbformat_minor": 2
}