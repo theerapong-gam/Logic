{
 "cells": [
  {
   "cell_type": "code",
   "execution_count": 1,
   "source": [
    "from logic import *\r\n",
    "\r\n",
    "p = Symbol(\"My glasses are on the kitchen table.\")#แว่นตาของฉันอยู่บนโต๊ะ_____________\r\n",
    "q = Symbol(\"I saw my glasses at breakfast.\")#ฉันเห็นแว่นตาของฉันตอนที่ทำอาหารเช้า\r\n",
    "r = Symbol(\"I was reading the ne ewspaper in the living room.\")#ฉันอ่านหนังสือพิมพ์ตอนที่อยู่นั่งเล่น\r\n",
    "s = Symbol(\"I was reading the newspaper in the kitchen.\")#ฉันอ่านหนังสือพิมพ์ตอนที่อยู่ในห้องครัว\r\n",
    "t = Symbol(\"My glasses are on the coffee table.\")#แว่นตาของฉันอยู่บนโต๊ะกาแฟ_________\r\n",
    "u = Symbol(\"I was reading my book in bed.\")#ฉันอ่านหนังสือของฉันตอนอยู่บนเตียง\r\n",
    "v = Symbol(\"My glasses are on the bed table. \")#แว่นตาของฉันอยู่บนโต๊ะข้างเตียง________"
   ],
   "outputs": [],
   "metadata": {}
  },
  {
   "cell_type": "code",
   "execution_count": 2,
   "source": [
    "knowledge = And( #ข้อมูลเป็นจริงทั้ง 6 ชิ้นเอามา andกัน\r\n",
    "    Implication(p, q),\r\n",
    "    Or(r, s),\r\n",
    "    Implication(r, t),\r\n",
    "    Not(q),\r\n",
    "    Implication(u, v),\r\n",
    "    Implication(s, p)\r\n",
    ")\r\n",
    "#จะเช็คได้ยังไงว่ามันอยู่บนโต๊ะอะไร"
   ],
   "outputs": [],
   "metadata": {}
  },
  {
   "cell_type": "code",
   "execution_count": 5,
   "source": [
    "onKitchenTable = model_check(knowledge , p)#ตั้งตัวแปรตัวนึงขึ้นมา onKitchenTable=p\r\n",
    "print(onKitchenTable)"
   ],
   "outputs": [
    {
     "output_type": "stream",
     "name": "stdout",
     "text": [
      "False\n"
     ]
    }
   ],
   "metadata": {}
  },
  {
   "cell_type": "code",
   "execution_count": 10,
   "source": [
    "oncoffeetable = model_check(knowledge , t)#ตั้งตัวแปรตัวนึงขึ้นมา oncoffeetable=t\r\n",
    "print(oncoffeetable)"
   ],
   "outputs": [
    {
     "output_type": "stream",
     "name": "stdout",
     "text": [
      "True\n"
     ]
    }
   ],
   "metadata": {}
  },
  {
   "cell_type": "code",
   "execution_count": 11,
   "source": [
    "onbedtable = model_check(knowledge , v)#ตั้งตัวแปรตัวนึงขึ้นมา onbedtable=v\r\n",
    "print(onbedtable)"
   ],
   "outputs": [
    {
     "output_type": "stream",
     "name": "stdout",
     "text": [
      "False\n"
     ]
    }
   ],
   "metadata": {}
  }
 ],
 "metadata": {
  "orig_nbformat": 4,
  "language_info": {
   "name": "python",
   "version": "3.9.7",
   "mimetype": "text/x-python",
   "codemirror_mode": {
    "name": "ipython",
    "version": 3
   },
   "pygments_lexer": "ipython3",
   "nbconvert_exporter": "python",
   "file_extension": ".py"
  },
  "kernelspec": {
   "name": "python3",
   "display_name": "Python 3.9.7 64-bit"
  },
  "interpreter": {
   "hash": "ea4c875f40e2feb0e60a34a54a5df6f69ffa7ba916ec31a843358473303548cc"
  }
 },
 "nbformat": 4,
 "nbformat_minor": 2
}